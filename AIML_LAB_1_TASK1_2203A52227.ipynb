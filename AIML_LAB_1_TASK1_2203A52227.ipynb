{
  "nbformat": 4,
  "nbformat_minor": 0,
  "metadata": {
    "colab": {
      "provenance": [],
      "toc_visible": true
    },
    "kernelspec": {
      "name": "python3",
      "display_name": "Python 3"
    },
    "language_info": {
      "name": "python"
    }
  },
  "cells": [
    {
      "cell_type": "code",
      "execution_count": 1,
      "metadata": {
        "colab": {
          "base_uri": "https://localhost:8080/"
        },
        "id": "wNC55Am3Hyl3",
        "outputId": "ff7482de-3b0d-4ba5-875b-d07620442c80"
      },
      "outputs": [
        {
          "output_type": "stream",
          "name": "stdout",
          "text": [
            "list is ==> [1, 2, 3]\n",
            "array is ==> [1 2 3]\n",
            "type of l1 is ==> <class 'list'>\n",
            "type of a is ==> <class 'numpy.ndarray'>\n"
          ]
        }
      ],
      "source": [
        "l1=[1,2,3]\n",
        "import numpy as np\n",
        "a=np.array(l1)\n",
        "print(\"list is ==>\",l1)\n",
        "print(\"array is ==>\",a)\n",
        "print(\"type of l1 is ==>\",type(l1))\n",
        "print(\"type of a is ==>\",type(a))"
      ]
    },
    {
      "cell_type": "code",
      "source": [
        "a1=np.array([1,2,3])\n",
        "a2=np.array([4,5,6])\n",
        "print(\"addition of two arrays is ==>\",a1+a2)\n",
        "print(\"multiplication of two arrays is ==>\",a1*a2)\n",
        "print(\"division of two arrays is ==>\",a1/a2)\n",
        "print(\"poweroff of two arrays is ==>\",a1**a2)"
      ],
      "metadata": {
        "colab": {
          "base_uri": "https://localhost:8080/"
        },
        "id": "pNrG12fqIg0B",
        "outputId": "6e69c5e8-ebbe-470e-f863-c9ad892cb055"
      },
      "execution_count": 2,
      "outputs": [
        {
          "output_type": "stream",
          "name": "stdout",
          "text": [
            "addition of two arrays is ==> [5 7 9]\n",
            "multiplication of two arrays is ==> [ 4 10 18]\n",
            "division of two arrays is ==> [0.25 0.4  0.5 ]\n",
            "poweroff of two arrays is ==> [  1  32 729]\n"
          ]
        }
      ]
    },
    {
      "cell_type": "code",
      "source": [
        "print(\"sin values are ==>\",np.sin(a1))\n",
        "print(\"log() values are ==>\",np.log(a1))\n",
        "print(\"log2() values are ==>\",np.log2(a1))\n",
        "print(\"exponent values are ==>\",np.exp(a1))"
      ],
      "metadata": {
        "colab": {
          "base_uri": "https://localhost:8080/"
        },
        "id": "Lb9hvnlxJD3r",
        "outputId": "bfa8c4f6-f67b-471b-94d1-92edd758b1d7"
      },
      "execution_count": 3,
      "outputs": [
        {
          "output_type": "stream",
          "name": "stdout",
          "text": [
            "sin values are ==> [0.84147098 0.90929743 0.14112001]\n",
            "log() values are ==> [0.         0.69314718 1.09861229]\n",
            "log2() values are ==> [0.        1.        1.5849625]\n",
            "exponent values are ==> [ 2.71828183  7.3890561  20.08553692]\n"
          ]
        }
      ]
    }
  ]
}